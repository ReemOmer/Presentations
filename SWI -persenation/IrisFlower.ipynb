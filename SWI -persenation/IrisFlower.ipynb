{
 "cells": [
  {
   "cell_type": "markdown",
   "metadata": {},
   "source": [
    "## Classifying Apples & Oranges:"
   ]
  },
  {
   "cell_type": "code",
   "execution_count": null,
   "metadata": {
    "collapsed": false
   },
   "outputs": [],
   "source": [
    "from sklearn import tree\n",
    "import warnings\n",
    "warnings.filterwarnings(\"ignore\")\n",
    "\n",
    "features = [[120,0],[130,0],[160,1],[190,1],[140,0]]\n",
    "labels = ['apple','apple','orange','orange','apple']\n",
    "classifier = tree.DecisionTreeClassifier()\n",
    "classifier = classifier.fit(features,labels)\n",
    "print(classifier.predict([[110,1]]))"
   ]
  },
  {
   "cell_type": "markdown",
   "metadata": {},
   "source": [
    "## Iris problem:"
   ]
  },
  {
   "cell_type": "code",
   "execution_count": 6,
   "metadata": {
    "collapsed": false
   },
   "outputs": [
    {
     "name": "stdout",
     "output_type": "stream",
     "text": [
      "training compeleted\n"
     ]
    }
   ],
   "source": [
    "from sklearn.datasets import load_iris\n",
    "import numpy as np\n",
    "from sklearn import tree\n",
    "\n",
    "\n",
    "iris = load_iris()\n",
    "indx = [0,50,100]\n",
    "\n",
    "\n",
    "#training data => all the iris data except 0,50,100 rows which the first row form each class\n",
    "features = np.delete(iris.data,indx,axis=0)\n",
    "labels = np.delete(iris.target,indx)\n",
    "\n",
    "\n",
    "#testing data => 0,50,100 first row from each class\n",
    "test_features = [iris.data[indx]]\n",
    "test_labels = [iris.target[indx]]\n",
    "\n",
    "\n",
    "#define classifier and train the data\n",
    "classification = tree.DecisionTreeClassifier()\n",
    "if classification.fit(features,labels):\n",
    "    print('training compeleted')"
   ]
  },
  {
   "cell_type": "code",
   "execution_count": 7,
   "metadata": {
    "collapsed": false
   },
   "outputs": [
    {
     "name": "stdout",
     "output_type": "stream",
     "text": [
      "Versicolor\n"
     ]
    }
   ],
   "source": [
    "#predict the value\n",
    "label = classification.predict(test_features[0][1])\n",
    "if label == 0:\n",
    "    print('Setosa')\n",
    "elif label == 1:\n",
    "    print('Versicolor')\n",
    "else:\n",
    "    print('Virginica')"
   ]
  },
  {
   "cell_type": "markdown",
   "metadata": {},
   "source": [
    "## Visualizing the tree:"
   ]
  },
  {
   "cell_type": "code",
   "execution_count": null,
   "metadata": {
    "collapsed": false
   },
   "outputs": [],
   "source": [
    "with open(\"iris.dot\", 'w') as f:\n",
    "    f = tree.export_graphviz(classification, out_file=f)\n",
    "import os\n",
    "os.unlink('iris.dot')\n",
    "import pydotplus \n",
    "dot_data = tree.export_graphviz(classification, out_file=None) \n",
    "graph = pydotplus.graph_from_dot_data(dot_data) \n",
    "graph.write_pdf(\"iris.pdf\")\n",
    "from IPython.display import Image  \n",
    "dot_data = tree.export_graphviz(classification, out_file=None, \n",
    "                         feature_names=iris.feature_names,  \n",
    "                         class_names=iris.target_names,  \n",
    "                         filled=True, rounded=True,  \n",
    "                         special_characters=True)  \n",
    "graph = pydotplus.graph_from_dot_data(dot_data)  \n",
    "Image(graph.create_png())"
   ]
  }
 ],
 "metadata": {
  "kernelspec": {
   "display_name": "Python 3",
   "language": "python",
   "name": "python3"
  },
  "language_info": {
   "codemirror_mode": {
    "name": "ipython",
    "version": 3
   },
   "file_extension": ".py",
   "mimetype": "text/x-python",
   "name": "python",
   "nbconvert_exporter": "python",
   "pygments_lexer": "ipython3",
   "version": "3.4.3"
  }
 },
 "nbformat": 4,
 "nbformat_minor": 1
}
